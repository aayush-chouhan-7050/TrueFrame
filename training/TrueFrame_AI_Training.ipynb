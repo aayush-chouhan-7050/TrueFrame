{
  "nbformat": 4,
  "nbformat_minor": 0,
  "metadata": {
    "colab": {
      "provenance": [],
      "gpuType": "T4"
    },
    "kernelspec": {
      "name": "python3",
      "display_name": "Python 3"
    },
    "language_info": {
      "name": "python"
    },
    "accelerator": "GPU"
  },
  "cells": [
    {
      "cell_type": "code",
      "execution_count": null,
      "metadata": {
        "colab": {
          "base_uri": "https://localhost:8080/",
          "height": 92
        },
        "id": "I79kgtrVftbA",
        "outputId": "9a4ddb95-31c7-4f97-dd00-7f625c6760df"
      },
      "outputs": [
        {
          "output_type": "display_data",
          "data": {
            "text/plain": [
              "<IPython.core.display.HTML object>"
            ],
            "text/html": [
              "\n",
              "     <input type=\"file\" id=\"files-2d441aad-a1e9-4ce6-b063-51cf611f8bf6\" name=\"files[]\" multiple disabled\n",
              "        style=\"border:none\" />\n",
              "     <output id=\"result-2d441aad-a1e9-4ce6-b063-51cf611f8bf6\">\n",
              "      Upload widget is only available when the cell has been executed in the\n",
              "      current browser session. Please rerun this cell to enable.\n",
              "      </output>\n",
              "      <script>// Copyright 2017 Google LLC\n",
              "//\n",
              "// Licensed under the Apache License, Version 2.0 (the \"License\");\n",
              "// you may not use this file except in compliance with the License.\n",
              "// You may obtain a copy of the License at\n",
              "//\n",
              "//      http://www.apache.org/licenses/LICENSE-2.0\n",
              "//\n",
              "// Unless required by applicable law or agreed to in writing, software\n",
              "// distributed under the License is distributed on an \"AS IS\" BASIS,\n",
              "// WITHOUT WARRANTIES OR CONDITIONS OF ANY KIND, either express or implied.\n",
              "// See the License for the specific language governing permissions and\n",
              "// limitations under the License.\n",
              "\n",
              "/**\n",
              " * @fileoverview Helpers for google.colab Python module.\n",
              " */\n",
              "(function(scope) {\n",
              "function span(text, styleAttributes = {}) {\n",
              "  const element = document.createElement('span');\n",
              "  element.textContent = text;\n",
              "  for (const key of Object.keys(styleAttributes)) {\n",
              "    element.style[key] = styleAttributes[key];\n",
              "  }\n",
              "  return element;\n",
              "}\n",
              "\n",
              "// Max number of bytes which will be uploaded at a time.\n",
              "const MAX_PAYLOAD_SIZE = 100 * 1024;\n",
              "\n",
              "function _uploadFiles(inputId, outputId) {\n",
              "  const steps = uploadFilesStep(inputId, outputId);\n",
              "  const outputElement = document.getElementById(outputId);\n",
              "  // Cache steps on the outputElement to make it available for the next call\n",
              "  // to uploadFilesContinue from Python.\n",
              "  outputElement.steps = steps;\n",
              "\n",
              "  return _uploadFilesContinue(outputId);\n",
              "}\n",
              "\n",
              "// This is roughly an async generator (not supported in the browser yet),\n",
              "// where there are multiple asynchronous steps and the Python side is going\n",
              "// to poll for completion of each step.\n",
              "// This uses a Promise to block the python side on completion of each step,\n",
              "// then passes the result of the previous step as the input to the next step.\n",
              "function _uploadFilesContinue(outputId) {\n",
              "  const outputElement = document.getElementById(outputId);\n",
              "  const steps = outputElement.steps;\n",
              "\n",
              "  const next = steps.next(outputElement.lastPromiseValue);\n",
              "  return Promise.resolve(next.value.promise).then((value) => {\n",
              "    // Cache the last promise value to make it available to the next\n",
              "    // step of the generator.\n",
              "    outputElement.lastPromiseValue = value;\n",
              "    return next.value.response;\n",
              "  });\n",
              "}\n",
              "\n",
              "/**\n",
              " * Generator function which is called between each async step of the upload\n",
              " * process.\n",
              " * @param {string} inputId Element ID of the input file picker element.\n",
              " * @param {string} outputId Element ID of the output display.\n",
              " * @return {!Iterable<!Object>} Iterable of next steps.\n",
              " */\n",
              "function* uploadFilesStep(inputId, outputId) {\n",
              "  const inputElement = document.getElementById(inputId);\n",
              "  inputElement.disabled = false;\n",
              "\n",
              "  const outputElement = document.getElementById(outputId);\n",
              "  outputElement.innerHTML = '';\n",
              "\n",
              "  const pickedPromise = new Promise((resolve) => {\n",
              "    inputElement.addEventListener('change', (e) => {\n",
              "      resolve(e.target.files);\n",
              "    });\n",
              "  });\n",
              "\n",
              "  const cancel = document.createElement('button');\n",
              "  inputElement.parentElement.appendChild(cancel);\n",
              "  cancel.textContent = 'Cancel upload';\n",
              "  const cancelPromise = new Promise((resolve) => {\n",
              "    cancel.onclick = () => {\n",
              "      resolve(null);\n",
              "    };\n",
              "  });\n",
              "\n",
              "  // Wait for the user to pick the files.\n",
              "  const files = yield {\n",
              "    promise: Promise.race([pickedPromise, cancelPromise]),\n",
              "    response: {\n",
              "      action: 'starting',\n",
              "    }\n",
              "  };\n",
              "\n",
              "  cancel.remove();\n",
              "\n",
              "  // Disable the input element since further picks are not allowed.\n",
              "  inputElement.disabled = true;\n",
              "\n",
              "  if (!files) {\n",
              "    return {\n",
              "      response: {\n",
              "        action: 'complete',\n",
              "      }\n",
              "    };\n",
              "  }\n",
              "\n",
              "  for (const file of files) {\n",
              "    const li = document.createElement('li');\n",
              "    li.append(span(file.name, {fontWeight: 'bold'}));\n",
              "    li.append(span(\n",
              "        `(${file.type || 'n/a'}) - ${file.size} bytes, ` +\n",
              "        `last modified: ${\n",
              "            file.lastModifiedDate ? file.lastModifiedDate.toLocaleDateString() :\n",
              "                                    'n/a'} - `));\n",
              "    const percent = span('0% done');\n",
              "    li.appendChild(percent);\n",
              "\n",
              "    outputElement.appendChild(li);\n",
              "\n",
              "    const fileDataPromise = new Promise((resolve) => {\n",
              "      const reader = new FileReader();\n",
              "      reader.onload = (e) => {\n",
              "        resolve(e.target.result);\n",
              "      };\n",
              "      reader.readAsArrayBuffer(file);\n",
              "    });\n",
              "    // Wait for the data to be ready.\n",
              "    let fileData = yield {\n",
              "      promise: fileDataPromise,\n",
              "      response: {\n",
              "        action: 'continue',\n",
              "      }\n",
              "    };\n",
              "\n",
              "    // Use a chunked sending to avoid message size limits. See b/62115660.\n",
              "    let position = 0;\n",
              "    do {\n",
              "      const length = Math.min(fileData.byteLength - position, MAX_PAYLOAD_SIZE);\n",
              "      const chunk = new Uint8Array(fileData, position, length);\n",
              "      position += length;\n",
              "\n",
              "      const base64 = btoa(String.fromCharCode.apply(null, chunk));\n",
              "      yield {\n",
              "        response: {\n",
              "          action: 'append',\n",
              "          file: file.name,\n",
              "          data: base64,\n",
              "        },\n",
              "      };\n",
              "\n",
              "      let percentDone = fileData.byteLength === 0 ?\n",
              "          100 :\n",
              "          Math.round((position / fileData.byteLength) * 100);\n",
              "      percent.textContent = `${percentDone}% done`;\n",
              "\n",
              "    } while (position < fileData.byteLength);\n",
              "  }\n",
              "\n",
              "  // All done.\n",
              "  yield {\n",
              "    response: {\n",
              "      action: 'complete',\n",
              "    }\n",
              "  };\n",
              "}\n",
              "\n",
              "scope.google = scope.google || {};\n",
              "scope.google.colab = scope.google.colab || {};\n",
              "scope.google.colab._files = {\n",
              "  _uploadFiles,\n",
              "  _uploadFilesContinue,\n",
              "};\n",
              "})(self);\n",
              "</script> "
            ]
          },
          "metadata": {}
        },
        {
          "output_type": "stream",
          "name": "stdout",
          "text": [
            "Saving kaggle.json to kaggle.json\n"
          ]
        },
        {
          "output_type": "execute_result",
          "data": {
            "text/plain": [
              "{'kaggle.json': b'{\"username\":\"aayushchouhan7050\",\"key\":\"a95327f6e77e8bc01e09d0681ba3cdd9\"}'}"
            ]
          },
          "metadata": {},
          "execution_count": 1
        }
      ],
      "source": [
        "from google.colab import files\n",
        "files.upload()"
      ]
    },
    {
      "cell_type": "code",
      "source": [
        "!pip install -q kaggle\n",
        "!mkdir -p ~/.kaggle\n",
        "!cp kaggle.json ~/.kaggle/\n",
        "!chmod 600 ~/.kaggle/kaggle.json"
      ],
      "metadata": {
        "id": "7oGDCeUqgKGX"
      },
      "execution_count": null,
      "outputs": []
    },
    {
      "cell_type": "code",
      "source": [
        "# --- Download Dataset 1: FaceForensics++ (a smaller subset) ---\n",
        "import kagglehub\n",
        "print(\"Downloading FaceForensics++ subset... This may take 10-15 minutes.\")\n",
        "path = kagglehub.dataset_download(\"xdxd003/ff-c23\")\n",
        "print(\"Path to dataset files:\", path)\n",
        "\n",
        "# --- Download Dataset 2: Celeb-DF (v2) ---\n",
        "print(\"Downloading Celeb-DF (v2)... This may take 5-10 minutes.\")\n",
        "path = kagglehub.dataset_download(\"reubensuju/celeb-df-v2\")\n",
        "print(\"Path to dataset files:\", path)\n",
        "\n",
        "print(\"\\nAll datasets downloaded.\")"
      ],
      "metadata": {
        "colab": {
          "base_uri": "https://localhost:8080/"
        },
        "id": "oKxwpscFgPJg",
        "outputId": "5aac0a6a-e2be-46b5-fdcf-c97db114cd62"
      },
      "execution_count": null,
      "outputs": [
        {
          "output_type": "stream",
          "name": "stdout",
          "text": [
            "Downloading FaceForensics++ subset... This may take 10-15 minutes.\n",
            "Using Colab cache for faster access to the 'ff-c23' dataset.\n",
            "Path to dataset files: /kaggle/input/ff-c23\n",
            "Downloading Celeb-DF (v2)... This may take 5-10 minutes.\n",
            "Using Colab cache for faster access to the 'celeb-df-v2' dataset.\n",
            "Path to dataset files: /kaggle/input/celeb-df-v2\n",
            "\n",
            "All datasets downloaded.\n"
          ]
        }
      ]
    },
    {
      "cell_type": "code",
      "source": [
        "import os\n",
        "import shutil\n",
        "import glob\n",
        "from tqdm import tqdm\n",
        "\n",
        "print(\"Creating the ultimate combined dataset...\")\n",
        "\n",
        "# --- Define Paths based on your download locations ---\n",
        "# Source paths for the unzipped datasets\n",
        "FFPP_REAL_PATH = '/kaggle/input/ff-c23/FaceForensics++_C23/original'\n",
        "FFPP_FAKE_PATH = '/kaggle/input/ff-c23/FaceForensics++_C23/Deepfakes'\n",
        "CELEBDF_REAL_PATH = '/kaggle/input/celeb-df-v2/Celeb-real'\n",
        "CELEBDF_FAKE_PATH = '/kaggle/input/celeb-df-v2/Celeb-synthesis'\n",
        "\n",
        "# Destination paths for our new combined dataset\n",
        "ULTIMATE_REAL_PATH = 'ultimate_dataset/train/real/'\n",
        "ULTIMATE_FAKE_PATH = 'ultimate_dataset/train/fake/'\n",
        "\n",
        "# --- Create Destination Folders ---\n",
        "os.makedirs(ULTIMATE_REAL_PATH, exist_ok=True)\n",
        "os.makedirs(ULTIMATE_FAKE_PATH, exist_ok=True)\n",
        "\n",
        "# --- List of sources and destinations to process ---\n",
        "tasks = [\n",
        "    (FFPP_REAL_PATH, ULTIMATE_REAL_PATH),\n",
        "    (FFPP_FAKE_PATH, ULTIMATE_FAKE_PATH),\n",
        "    (CELEBDF_REAL_PATH, ULTIMATE_REAL_PATH),\n",
        "    (CELEBDF_FAKE_PATH, ULTIMATE_FAKE_PATH)\n",
        "]\n",
        "\n",
        "# --- Copying Logic ---\n",
        "def copy_videos(source_dir, dest_dir):\n",
        "    # Find all .mp4 files in the source directory\n",
        "    video_files = glob.glob(os.path.join(source_dir, '*.mp4'))\n",
        "\n",
        "    # Copy each file to the destination\n",
        "    for video_path in tqdm(video_files, desc=f\"Copying from {os.path.basename(os.path.normpath(source_dir))}\"):\n",
        "        shutil.copy(video_path, dest_dir)\n",
        "\n",
        "# --- Execute the Copying ---\n",
        "for source, dest in tasks:\n",
        "    if os.path.exists(source):\n",
        "        copy_videos(source, dest)\n",
        "    else:\n",
        "        print(f\"Warning: Source directory not found, skipping: {source}\")\n",
        "\n",
        "print(\"\\n✅ All videos have been combined into 'ultimate_dataset'!\")"
      ],
      "metadata": {
        "colab": {
          "base_uri": "https://localhost:8080/"
        },
        "id": "ug3cEzsigS8f",
        "outputId": "a6e617ee-9000-490e-ad2a-a6dc08de8693"
      },
      "execution_count": null,
      "outputs": [
        {
          "output_type": "stream",
          "name": "stdout",
          "text": [
            "Creating the ultimate combined dataset...\n"
          ]
        },
        {
          "output_type": "stream",
          "name": "stderr",
          "text": [
            "Copying from original: 100%|██████████| 1000/1000 [00:22<00:00, 43.74it/s]\n",
            "Copying from Deepfakes: 100%|██████████| 1000/1000 [00:22<00:00, 44.25it/s]\n",
            "Copying from Celeb-real: 100%|██████████| 590/590 [00:12<00:00, 45.91it/s]\n",
            "Copying from Celeb-synthesis: 100%|██████████| 5639/5639 [01:55<00:00, 48.72it/s]"
          ]
        },
        {
          "output_type": "stream",
          "name": "stdout",
          "text": [
            "\n",
            "✅ All videos have been combined into 'ultimate_dataset'!\n"
          ]
        },
        {
          "output_type": "stream",
          "name": "stderr",
          "text": [
            "\n"
          ]
        }
      ]
    },
    {
      "cell_type": "code",
      "source": [
        "import cv2\n",
        "import shutil\n",
        "import logging\n",
        "import os\n",
        "import random\n",
        "from pathlib import Path\n",
        "from tqdm import tqdm\n",
        "from concurrent.futures import ProcessPoolExecutor, as_completed\n",
        "\n",
        "# --- Configure Logging ---\n",
        "logging.basicConfig(\n",
        "    level=logging.INFO,\n",
        "    format='%(asctime)s - %(levelname)s - %(message)s',\n",
        "    datefmt='%Y-%m-%d %H:%M:%S'\n",
        ")\n",
        "\n",
        "class FrameExtractor:\n",
        "    def __init__(self, real_videos_path: Path, fake_videos_path: Path, output_dir: Path,\n",
        "                 frame_interval: int = 30, max_workers: int = None,\n",
        "                 max_videos_per_class: int = None, max_frames_per_video: int = None): # <-- New options\n",
        "        self.real_videos_path = real_videos_path\n",
        "        self.fake_videos_path = fake_videos_path\n",
        "        self.output_dir = output_dir\n",
        "        self.frame_interval = frame_interval\n",
        "        self.max_workers = max_workers if max_workers is not None else os.cpu_count()\n",
        "        self.max_videos_per_class = max_videos_per_class # <-- New\n",
        "        self.max_frames_per_video = max_frames_per_video # <-- New\n",
        "\n",
        "        self.real_frames_dir = self.output_dir / 'train/real'\n",
        "        self.fake_frames_dir = self.output_dir / 'train/fake'\n",
        "\n",
        "    def _setup_directories(self) -> None:\n",
        "        logging.info(\"Setting up output directories...\")\n",
        "        if self.output_dir.exists():\n",
        "            shutil.rmtree(self.output_dir)\n",
        "        self.real_frames_dir.mkdir(parents=True, exist_ok=True)\n",
        "        self.fake_frames_dir.mkdir(parents=True, exist_ok=True)\n",
        "        logging.info(\"Output directories are ready.\")\n",
        "\n",
        "    def _process_single_video(self, video_path: Path) -> str:\n",
        "        try:\n",
        "            output_dir = self.real_frames_dir if video_path.parent.name == 'real' else self.fake_frames_dir\n",
        "            cap = cv2.VideoCapture(str(video_path))\n",
        "            if not cap.isOpened():\n",
        "                raise IOError(f\"Cannot open video file: {video_path.name}\")\n",
        "\n",
        "            frame_count = 0\n",
        "            extracted_count = 0 # <-- New: track extracted frames\n",
        "            while True:\n",
        "                ret, frame = cap.read()\n",
        "                if not ret:\n",
        "                    break\n",
        "\n",
        "                # New: Stop if we've extracted enough frames for this video\n",
        "                if self.max_frames_per_video and extracted_count >= self.max_frames_per_video:\n",
        "                    break\n",
        "\n",
        "                if frame_count % self.frame_interval == 0:\n",
        "                    frame_path = output_dir / f\"{video_path.stem}_frame_{frame_count}.jpg\"\n",
        "                    cv2.imwrite(str(frame_path), frame)\n",
        "                    extracted_count += 1\n",
        "\n",
        "                frame_count += 1\n",
        "            cap.release()\n",
        "            return video_path.name\n",
        "        except Exception as e:\n",
        "            logging.error(f\"Failed to process {video_path.name}: {e}\")\n",
        "            return None\n",
        "\n",
        "    def run(self) -> None:\n",
        "        self._setup_directories()\n",
        "\n",
        "        real_videos = list(self.real_videos_path.glob('*.mp4'))\n",
        "        fake_videos = list(self.fake_videos_path.glob('*.mp4'))\n",
        "\n",
        "        # --- New: Shuffle and limit the number of videos ---\n",
        "        random.shuffle(real_videos)\n",
        "        random.shuffle(fake_videos)\n",
        "\n",
        "        if self.max_videos_per_class:\n",
        "            real_videos = real_videos[:self.max_videos_per_class]\n",
        "            fake_videos = fake_videos[:self.max_videos_per_class]\n",
        "\n",
        "        all_videos = real_videos + fake_videos\n",
        "\n",
        "        if not all_videos:\n",
        "            logging.warning(\"No videos found in the source directories.\")\n",
        "            return\n",
        "\n",
        "        logging.info(f\"Processing a random subset of {len(all_videos)} total videos.\")\n",
        "        logging.info(f\"Starting parallel extraction with {self.max_workers} workers.\")\n",
        "\n",
        "        with ProcessPoolExecutor(max_workers=self.max_workers) as executor:\n",
        "            futures = [executor.submit(self._process_single_video, video) for video in all_videos]\n",
        "            for future in tqdm(as_completed(futures), total=len(all_videos), desc=\"Extracting frames\"):\n",
        "                future.result()\n",
        "\n",
        "        logging.info(\"✅ Frame extraction complete!\")\n",
        "\n",
        "\n",
        "# --- Main Execution Block ---\n",
        "if __name__ == \"__main__\":\n",
        "    # 1. Define your configuration with the new limits\n",
        "    config = {\n",
        "        \"real_videos_path\": Path('ultimate_dataset/train/real/'),\n",
        "        \"fake_videos_path\": Path('ultimate_dataset/train/fake/'),\n",
        "        \"output_dir\": Path('frames_ultimate_subset'), # Use a new output folder name\n",
        "        \"frame_interval\": 30,\n",
        "        \"max_workers\": os.cpu_count(),\n",
        "        # --- NEW LIMITS ---\n",
        "        \"max_videos_per_class\": 1500,  # Process 1500 real and 1500 fake videos\n",
        "        \"max_frames_per_video\": 15      # Extract a max of 15 frames from each video\n",
        "    }\n",
        "\n",
        "    # 2. Create an instance and run\n",
        "    extractor = FrameExtractor(**config)\n",
        "    extractor.run()"
      ],
      "metadata": {
        "colab": {
          "base_uri": "https://localhost:8080/"
        },
        "id": "ZN4a8sr6hN6r",
        "outputId": "20e71b14-089f-4a37-ff8f-ef13b4f8a498"
      },
      "execution_count": null,
      "outputs": [
        {
          "output_type": "stream",
          "name": "stderr",
          "text": [
            "Extracting frames: 100%|██████████| 3000/3000 [1:04:21<00:00,  1.29s/it]\n"
          ]
        }
      ]
    },
    {
      "cell_type": "code",
      "source": [
        "import torch\n",
        "import torch.nn as nn\n",
        "import torch.optim as optim\n",
        "from torch.utils.data import DataLoader, random_split\n",
        "from torchvision import datasets, models, transforms\n",
        "import time\n",
        "from collections import Counter\n",
        "from tqdm import tqdm\n",
        "\n",
        "print(\"Starting FINAL model fine-tuning on the ultimate dataset...\")\n",
        "\n",
        "# --- 1. Configuration ---\n",
        "device = torch.device(\"cuda:0\" if torch.cuda.is_available() else \"cpu\")\n",
        "print(f\"Using device: {device}\")\n",
        "\n",
        "# --- Paths for the final run ---\n",
        "DATA_DIR = 'frames_ultimate_subset/train' #<-- Path to your new subset of frames\n",
        "PREVIOUS_MODEL_PATH = 'deepfake_detector_best_model.pth' #<-- The model we are improving\n",
        "FINAL_MODEL_SAVE_PATH = 'deepfake_detector_ultimate_model.pth' #<-- The final output!\n",
        "\n",
        "# --- Fine-Tuning Parameters ---\n",
        "NUM_EPOCHS = 10\n",
        "BATCH_SIZE = 32\n",
        "LEARNING_RATE = 0.0001 #<-- Use a smaller learning rate for fine-tuning\n",
        "\n",
        "# --- 2. Aggressive Data Augmentation ---\n",
        "# Transforms to simulate real-world conditions like bad lighting and compression\n",
        "train_transforms = transforms.Compose([\n",
        "    transforms.Resize((224, 224)),\n",
        "    transforms.RandomHorizontalFlip(),\n",
        "    transforms.RandomRotation(15),\n",
        "    transforms.ColorJitter(brightness=0.3, contrast=0.3, saturation=0.3),\n",
        "    transforms.ToTensor(),\n",
        "    transforms.Normalize([0.485, 0.456, 0.406], [0.229, 0.224, 0.225])\n",
        "])\n",
        "\n",
        "val_transforms = transforms.Compose([\n",
        "    transforms.Resize((224, 224)),\n",
        "    transforms.ToTensor(),\n",
        "    transforms.Normalize([0.485, 0.456, 0.406], [0.229, 0.224, 0.225])\n",
        "])\n",
        "\n",
        "# --- 3. Data Preparation ---\n",
        "full_dataset = datasets.ImageFolder(DATA_DIR)\n",
        "class_names = full_dataset.classes\n",
        "\n",
        "train_size = int(0.9 * len(full_dataset)) # Use 90% for training\n",
        "val_size = len(full_dataset) - train_size\n",
        "train_indices, val_indices = random_split(range(len(full_dataset)), [train_size, val_size])\n",
        "\n",
        "train_dataset = torch.utils.data.Subset(full_dataset, train_indices.indices)\n",
        "train_dataset.dataset.transform = train_transforms\n",
        "\n",
        "val_dataset = torch.utils.data.Subset(full_dataset, val_indices.indices)\n",
        "val_dataset.dataset.transform = val_transforms\n",
        "\n",
        "train_dataloader = DataLoader(train_dataset, batch_size=BATCH_SIZE, shuffle=True, num_workers=2)\n",
        "val_dataloader = DataLoader(val_dataset, batch_size=BATCH_SIZE, shuffle=False, num_workers=2)\n",
        "print(f\"Data prepared: {len(train_dataset)} training images, {len(val_dataset)} validation images.\")\n",
        "\n",
        "# --- 4. Class Weighting for the new dataset ---\n",
        "train_labels = [full_dataset.targets[i] for i in train_indices.indices]\n",
        "class_counts = Counter(train_labels)\n",
        "num_samples = len(train_labels)\n",
        "weights = [num_samples / (len(class_names) * class_counts[i]) for i in range(len(class_names))]\n",
        "class_weights_tensor = torch.FloatTensor(weights).to(device)\n",
        "print(f\"New class weights: {class_weights_tensor}\")\n",
        "\n",
        "# --- 5. Load Your Best Model for Fine-Tuning ---\n",
        "model = models.efficientnet_b0()\n",
        "num_features = model.classifier[1].in_features\n",
        "model.classifier[1] = nn.Linear(num_features, len(class_names))\n",
        "\n",
        "# Load the weights from your previous best model\n",
        "model.load_state_dict(torch.load(PREVIOUS_MODEL_PATH))\n",
        "model = model.to(device)\n",
        "print(\"Previous best model loaded successfully for fine-tuning.\")\n",
        "\n",
        "criterion = nn.CrossEntropyLoss(weight=class_weights_tensor)\n",
        "optimizer = optim.Adam(model.parameters(), lr=LEARNING_RATE)\n",
        "\n",
        "# --- 6. The Training and Validation Loop ---\n",
        "print(\"\\nStarting final training run...\")\n",
        "start_time = time.time()\n",
        "best_val_accuracy = 0.0\n",
        "\n",
        "for epoch in range(NUM_EPOCHS):\n",
        "    print(f'\\nEpoch {epoch+1}/{NUM_EPOCHS}')\n",
        "    print('-' * 10)\n",
        "\n",
        "    # -- TRAINING --\n",
        "    model.train()\n",
        "    running_loss = 0.0\n",
        "    for inputs, labels in tqdm(train_dataloader, desc=\"Training\"):\n",
        "        inputs, labels = inputs.to(device), labels.to(device)\n",
        "        optimizer.zero_grad()\n",
        "        outputs = model(inputs)\n",
        "        loss = criterion(outputs, labels)\n",
        "        loss.backward()\n",
        "        optimizer.step()\n",
        "        running_loss += loss.item() * inputs.size(0)\n",
        "    epoch_loss = running_loss / len(train_dataset)\n",
        "    print(f'Training Loss: {epoch_loss:.4f}')\n",
        "\n",
        "    # -- VALIDATION --\n",
        "    model.eval()\n",
        "    running_corrects = 0\n",
        "    with torch.no_grad():\n",
        "        for inputs, labels in tqdm(val_dataloader, desc=\"Validating\"):\n",
        "            inputs, labels = inputs.to(device), labels.to(device)\n",
        "            outputs = model(inputs)\n",
        "            _, preds = torch.max(outputs, 1)\n",
        "            running_corrects += torch.sum(preds == labels.data)\n",
        "    epoch_acc = running_corrects.double() / len(val_dataset)\n",
        "    print(f'Validation Accuracy: {epoch_acc:.4f}')\n",
        "\n",
        "    if epoch_acc > best_val_accuracy:\n",
        "        best_val_accuracy = epoch_acc\n",
        "        torch.save(model.state_dict(), FINAL_MODEL_SAVE_PATH)\n",
        "        print(f\"New best model saved with accuracy: {best_val_accuracy:.4f}\")\n",
        "\n",
        "# --- 7. Conclusion ---\n",
        "time_elapsed = time.time() - start_time\n",
        "print(f'\\nTraining complete in {time_elapsed // 60:.0f}m {time_elapsed % 60:.0f}s')\n",
        "print(f'Best Validation Accuracy: {best_val_accuracy:.4f}')\n",
        "print(f\"✅ Your ultimate model is saved at: {FINAL_MODEL_SAVE_PATH}\")"
      ],
      "metadata": {
        "colab": {
          "base_uri": "https://localhost:8080/"
        },
        "id": "6QSYbHf00Lgx",
        "outputId": "177a4418-7bca-4835-cf74-f3d86c3f6859"
      },
      "execution_count": null,
      "outputs": [
        {
          "output_type": "stream",
          "name": "stdout",
          "text": [
            "Starting FINAL model fine-tuning on the ultimate dataset...\n",
            "Using device: cuda:0\n",
            "Data prepared: 35271 training images, 3919 validation images.\n",
            "New class weights: tensor([1.0261, 0.9752], device='cuda:0')\n",
            "Previous best model loaded successfully for fine-tuning.\n",
            "\n",
            "Starting final training run...\n",
            "\n",
            "Epoch 1/10\n",
            "----------\n"
          ]
        },
        {
          "output_type": "stream",
          "name": "stderr",
          "text": [
            "Training: 100%|██████████| 1103/1103 [05:14<00:00,  3.50it/s]\n"
          ]
        },
        {
          "output_type": "stream",
          "name": "stdout",
          "text": [
            "Training Loss: 0.4916\n"
          ]
        },
        {
          "output_type": "stream",
          "name": "stderr",
          "text": [
            "Validating: 100%|██████████| 123/123 [00:28<00:00,  4.32it/s]\n"
          ]
        },
        {
          "output_type": "stream",
          "name": "stdout",
          "text": [
            "Validation Accuracy: 0.8650\n",
            "New best model saved with accuracy: 0.8650\n",
            "\n",
            "Epoch 2/10\n",
            "----------\n"
          ]
        },
        {
          "output_type": "stream",
          "name": "stderr",
          "text": [
            "Training: 100%|██████████| 1103/1103 [04:55<00:00,  3.73it/s]\n"
          ]
        },
        {
          "output_type": "stream",
          "name": "stdout",
          "text": [
            "Training Loss: 0.2633\n"
          ]
        },
        {
          "output_type": "stream",
          "name": "stderr",
          "text": [
            "Validating: 100%|██████████| 123/123 [00:26<00:00,  4.61it/s]\n"
          ]
        },
        {
          "output_type": "stream",
          "name": "stdout",
          "text": [
            "Validation Accuracy: 0.9155\n",
            "New best model saved with accuracy: 0.9155\n",
            "\n",
            "Epoch 3/10\n",
            "----------\n"
          ]
        },
        {
          "output_type": "stream",
          "name": "stderr",
          "text": [
            "Training: 100%|██████████| 1103/1103 [04:45<00:00,  3.87it/s]\n"
          ]
        },
        {
          "output_type": "stream",
          "name": "stdout",
          "text": [
            "Training Loss: 0.1798\n"
          ]
        },
        {
          "output_type": "stream",
          "name": "stderr",
          "text": [
            "Validating: 100%|██████████| 123/123 [00:27<00:00,  4.54it/s]\n"
          ]
        },
        {
          "output_type": "stream",
          "name": "stdout",
          "text": [
            "Validation Accuracy: 0.9428\n",
            "New best model saved with accuracy: 0.9428\n",
            "\n",
            "Epoch 4/10\n",
            "----------\n"
          ]
        },
        {
          "output_type": "stream",
          "name": "stderr",
          "text": [
            "Training: 100%|██████████| 1103/1103 [04:48<00:00,  3.82it/s]\n"
          ]
        },
        {
          "output_type": "stream",
          "name": "stdout",
          "text": [
            "Training Loss: 0.1320\n"
          ]
        },
        {
          "output_type": "stream",
          "name": "stderr",
          "text": [
            "Validating: 100%|██████████| 123/123 [00:26<00:00,  4.56it/s]\n"
          ]
        },
        {
          "output_type": "stream",
          "name": "stdout",
          "text": [
            "Validation Accuracy: 0.9485\n",
            "New best model saved with accuracy: 0.9485\n",
            "\n",
            "Epoch 5/10\n",
            "----------\n"
          ]
        },
        {
          "output_type": "stream",
          "name": "stderr",
          "text": [
            "Training: 100%|██████████| 1103/1103 [04:44<00:00,  3.88it/s]\n"
          ]
        },
        {
          "output_type": "stream",
          "name": "stdout",
          "text": [
            "Training Loss: 0.0996\n"
          ]
        },
        {
          "output_type": "stream",
          "name": "stderr",
          "text": [
            "Validating: 100%|██████████| 123/123 [00:26<00:00,  4.59it/s]\n"
          ]
        },
        {
          "output_type": "stream",
          "name": "stdout",
          "text": [
            "Validation Accuracy: 0.9513\n",
            "New best model saved with accuracy: 0.9513\n",
            "\n",
            "Epoch 6/10\n",
            "----------\n"
          ]
        },
        {
          "output_type": "stream",
          "name": "stderr",
          "text": [
            "Training: 100%|██████████| 1103/1103 [04:48<00:00,  3.83it/s]\n"
          ]
        },
        {
          "output_type": "stream",
          "name": "stdout",
          "text": [
            "Training Loss: 0.0767\n"
          ]
        },
        {
          "output_type": "stream",
          "name": "stderr",
          "text": [
            "Validating: 100%|██████████| 123/123 [00:27<00:00,  4.40it/s]\n"
          ]
        },
        {
          "output_type": "stream",
          "name": "stdout",
          "text": [
            "Validation Accuracy: 0.9474\n",
            "\n",
            "Epoch 7/10\n",
            "----------\n"
          ]
        },
        {
          "output_type": "stream",
          "name": "stderr",
          "text": [
            "Training: 100%|██████████| 1103/1103 [04:55<00:00,  3.73it/s]\n"
          ]
        },
        {
          "output_type": "stream",
          "name": "stdout",
          "text": [
            "Training Loss: 0.0609\n"
          ]
        },
        {
          "output_type": "stream",
          "name": "stderr",
          "text": [
            "Validating: 100%|██████████| 123/123 [00:26<00:00,  4.56it/s]\n"
          ]
        },
        {
          "output_type": "stream",
          "name": "stdout",
          "text": [
            "Validation Accuracy: 0.9633\n",
            "New best model saved with accuracy: 0.9633\n",
            "\n",
            "Epoch 8/10\n",
            "----------\n"
          ]
        },
        {
          "output_type": "stream",
          "name": "stderr",
          "text": [
            "Training: 100%|██████████| 1103/1103 [04:54<00:00,  3.74it/s]\n"
          ]
        },
        {
          "output_type": "stream",
          "name": "stdout",
          "text": [
            "Training Loss: 0.0520\n"
          ]
        },
        {
          "output_type": "stream",
          "name": "stderr",
          "text": [
            "Validating: 100%|██████████| 123/123 [00:27<00:00,  4.41it/s]\n"
          ]
        },
        {
          "output_type": "stream",
          "name": "stdout",
          "text": [
            "Validation Accuracy: 0.9645\n",
            "New best model saved with accuracy: 0.9645\n",
            "\n",
            "Epoch 9/10\n",
            "----------\n"
          ]
        },
        {
          "output_type": "stream",
          "name": "stderr",
          "text": [
            "Training: 100%|██████████| 1103/1103 [04:44<00:00,  3.87it/s]\n"
          ]
        },
        {
          "output_type": "stream",
          "name": "stdout",
          "text": [
            "Training Loss: 0.0489\n"
          ]
        },
        {
          "output_type": "stream",
          "name": "stderr",
          "text": [
            "Validating: 100%|██████████| 123/123 [00:27<00:00,  4.47it/s]\n"
          ]
        },
        {
          "output_type": "stream",
          "name": "stdout",
          "text": [
            "Validation Accuracy: 0.9696\n",
            "New best model saved with accuracy: 0.9696\n",
            "\n",
            "Epoch 10/10\n",
            "----------\n"
          ]
        },
        {
          "output_type": "stream",
          "name": "stderr",
          "text": [
            "Training: 100%|██████████| 1103/1103 [04:49<00:00,  3.81it/s]\n"
          ]
        },
        {
          "output_type": "stream",
          "name": "stdout",
          "text": [
            "Training Loss: 0.0370\n"
          ]
        },
        {
          "output_type": "stream",
          "name": "stderr",
          "text": [
            "Validating: 100%|██████████| 123/123 [00:28<00:00,  4.33it/s]\n"
          ]
        },
        {
          "output_type": "stream",
          "name": "stdout",
          "text": [
            "Validation Accuracy: 0.9732\n",
            "New best model saved with accuracy: 0.9732\n",
            "\n",
            "Training complete in 53m 17s\n",
            "Best Validation Accuracy: 0.9732\n",
            "✅ Your ultimate model is saved at: deepfake_detector_ultimate_model.pth\n"
          ]
        }
      ]
    },
    {
      "cell_type": "code",
      "source": [
        "import torch\n",
        "from torch.utils.data import DataLoader, random_split\n",
        "from torchvision import datasets, models, transforms\n",
        "import matplotlib.pyplot as plt\n",
        "import seaborn as sns\n",
        "from sklearn.metrics import confusion_matrix, classification_report\n",
        "from tqdm import tqdm\n",
        "\n",
        "# --- 1. Configuration ---\n",
        "device = torch.device(\"cuda:0\" if torch.cuda.is_available() else \"cpu\")\n",
        "DATA_DIR = 'frames_ultimate_subset/train'\n",
        "# --- IMPORTANT: Update this path ---\n",
        "MODEL_PATH = 'deepfake_detector_ultimate_model.pth'\n",
        "BATCH_SIZE = 32\n",
        "\n",
        "# --- 2. Prepare Validation Data ---\n",
        "val_transforms = transforms.Compose([\n",
        "    transforms.Resize((224, 224)),\n",
        "    transforms.ToTensor(),\n",
        "    transforms.Normalize([0.485, 0.456, 0.406], [0.229, 0.224, 0.225])\n",
        "])\n",
        "full_dataset = datasets.ImageFolder(DATA_DIR, val_transforms)\n",
        "class_names = full_dataset.classes\n",
        "train_size = int(0.9 * len(full_dataset))\n",
        "val_size = len(full_dataset) - train_size\n",
        "_, val_dataset = random_split(full_dataset, [train_size, val_size])\n",
        "val_dataloader = DataLoader(val_dataset, batch_size=BATCH_SIZE, shuffle=False, num_workers=2)\n",
        "\n",
        "# --- 3. Load the Trained Model ---\n",
        "model = models.efficientnet_b0()\n",
        "num_features = model.classifier[1].in_features\n",
        "model.classifier[1] = nn.Linear(num_features, len(class_names))\n",
        "model.load_state_dict(torch.load(MODEL_PATH))\n",
        "model = model.to(device)\n",
        "model.eval()\n",
        "\n",
        "# --- 4. Get Predictions ---\n",
        "all_preds = []\n",
        "all_labels = []\n",
        "with torch.no_grad():\n",
        "    for inputs, labels in tqdm(val_dataloader, desc=\"Evaluating final model\"):\n",
        "        inputs, labels = inputs.to(device), labels.to(device)\n",
        "        outputs = model(inputs)\n",
        "        _, preds = torch.max(outputs, 1)\n",
        "        all_preds.extend(preds.cpu().numpy())\n",
        "        all_labels.extend(labels.cpu().numpy())\n",
        "\n",
        "# --- 5. Display Metrics ---\n",
        "print(\"\\nClassification Report:\")\n",
        "print(classification_report(all_labels, all_preds, target_names=class_names))\n",
        "\n",
        "conf_matrix = confusion_matrix(all_labels, all_preds)\n",
        "plt.figure(figsize=(8, 6))\n",
        "sns.heatmap(conf_matrix, annot=True, fmt='d', cmap='Blues',\n",
        "            xticklabels=class_names, yticklabels=class_names)\n",
        "plt.xlabel('Predicted Label')\n",
        "plt.ylabel('True Label')\n",
        "plt.title('Final Model Confusion Matrix')\n",
        "plt.show()"
      ],
      "metadata": {
        "colab": {
          "base_uri": "https://localhost:8080/",
          "height": 778
        },
        "id": "F8BRqGAeBIj6",
        "outputId": "35f1eeab-18bc-436d-c37f-1801e0a41de5"
      },
      "execution_count": null,
      "outputs": [
        {
          "output_type": "stream",
          "name": "stderr",
          "text": [
            "Evaluating final model: 100%|██████████| 123/123 [00:28<00:00,  4.38it/s]\n"
          ]
        },
        {
          "output_type": "stream",
          "name": "stdout",
          "text": [
            "\n",
            "Classification Report:\n",
            "              precision    recall  f1-score   support\n",
            "\n",
            "        fake       0.99      1.00      0.99      1905\n",
            "        real       1.00      0.99      0.99      2014\n",
            "\n",
            "    accuracy                           0.99      3919\n",
            "   macro avg       0.99      0.99      0.99      3919\n",
            "weighted avg       0.99      0.99      0.99      3919\n",
            "\n"
          ]
        },
        {
          "output_type": "display_data",
          "data": {
            "text/plain": [
              "<Figure size 800x600 with 2 Axes>"
            ],
            "image/png": "[encoded data removed]"
          },
          "metadata": {}
        }
      ]
    },
    {
      "cell_type": "code",
      "source": [
        "import torch\n",
        "from torchvision import models, transforms\n",
        "import cv2\n",
        "from PIL import Image\n",
        "import os\n",
        "\n",
        "# --- 1. Configuration ---\n",
        "device = torch.device(\"cuda:0\" if torch.cuda.is_available() else \"cpu\")\n",
        "# --- IMPORTANT: Update this path ---\n",
        "MODEL_PATH = 'deepfake_detector_ultimate_model.pth'\n",
        "class_names = ['fake', 'real']\n",
        "\n",
        "# --- 2. Load the Model ---\n",
        "model = models.efficientnet_b0()\n",
        "num_features = model.classifier[1].in_features\n",
        "model.classifier[1] = nn.Linear(num_features, len(class_names))\n",
        "model.load_state_dict(torch.load(MODEL_PATH, map_location=device))\n",
        "model = model.to(device)\n",
        "model.eval()\n",
        "\n",
        "# --- 3. Prediction Function (using the same one as before) ---\n",
        "inference_transforms = transforms.Compose([\n",
        "    transforms.Resize((224, 224)),\n",
        "    transforms.ToTensor(),\n",
        "    transforms.Normalize([0.485, 0.456, 0.406], [0.229, 0.224, 0.225])\n",
        "])\n",
        "\n",
        "def predict_video(video_path, frame_interval=30):\n",
        "    if not os.path.exists(video_path):\n",
        "        print(f\"Error: Video file not found at {video_path}\")\n",
        "        return\n",
        "    predictions = []\n",
        "    cap = cv2.VideoCapture(video_path)\n",
        "    while cap.isOpened():\n",
        "        ret, frame = cap.read()\n",
        "        if not ret: break\n",
        "        if cap.get(cv2.CAP_PROP_POS_FRAMES) % frame_interval == 0:\n",
        "            pil_image = Image.fromarray(cv2.cvtColor(frame, cv2.COLOR_BGR2RGB))\n",
        "            image_tensor = inference_transforms(pil_image).unsqueeze(0).to(device)\n",
        "            with torch.no_grad():\n",
        "                outputs = model(image_tensor)\n",
        "                _, pred_idx = torch.max(outputs, 1)\n",
        "                predictions.append(pred_idx.item())\n",
        "    cap.release()\n",
        "\n",
        "    if not predictions:\n",
        "        print(\"Could not extract any frames.\")\n",
        "        return\n",
        "\n",
        "    fake_count = predictions.count(class_names.index('fake'))\n",
        "    real_count = len(predictions) - fake_count\n",
        "    fake_percentage = (fake_count / len(predictions)) * 100\n",
        "\n",
        "    print(f\"\\n--- Final Prediction for: {os.path.basename(video_path)} ---\")\n",
        "    verdict = \"FAKE\" if fake_count > real_count else \"REAL\"\n",
        "    confidence = fake_percentage if verdict == \"FAKE\" else 100 - fake_percentage\n",
        "\n",
        "    if verdict == \"FAKE\":\n",
        "        print(f'Verdict: ৯০% The video is likely FAKE ({confidence:.2f}% confidence)')\n",
        "    else:\n",
        "        print(f'Verdict: ✅ The video is likely REAL ({confidence:.2f}% confidence)')\n",
        "\n",
        "# --- 4. RUN THE TEST ---\n",
        "# --- IMPORTANT: Update this path to your Instagram Reel video ---\n",
        "video_to_test = \"/content/173239-848944192_small.mp4\"\n",
        "predict_video(video_to_test)"
      ],
      "metadata": {
        "colab": {
          "base_uri": "https://localhost:8080/"
        },
        "id": "GEc_ow-oBe9p",
        "outputId": "c01f402c-860c-4e2a-b5b9-e070e9316e06"
      },
      "execution_count": null,
      "outputs": [
        {
          "output_type": "stream",
          "name": "stdout",
          "text": [
            "\n",
            "--- Final Prediction for: 173239-848944192_small.mp4 ---\n",
            "Verdict: ✅ The video is likely REAL (100.00% confidence)\n"
          ]
        }
      ]
    }
  ]
}